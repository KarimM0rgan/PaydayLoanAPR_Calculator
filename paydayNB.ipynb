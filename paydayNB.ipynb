{
 "cells": [
  {
   "cell_type": "markdown",
   "metadata": {},
   "source": [
    "# Project 2: Payday Loans\n",
    "\n",
    "## Computing for the social good\n",
    "\n",
    "Computing plays a crucial rule in responding to social, ecological, political, and other challenges.  Computer science can be used to analyze each situation with an eye for the ethics and potential consequences. \n",
    "\n",
    "\n",
    "## Payday loans\n",
    "\n",
    "With *annual percentage rates* (APRs) of 400-600 percent, payday loans carry some of the highest interest rates available on credit products.\n",
    "\n",
    "This is an order of magnitude higher than a credit card (_e.g.,_ a typical credit card carries a 15-20% APR), and failure to pay off a payday loan on time is a common-enough occurrence that interest charges can be _much more_ than the actual amount borrowed.\n",
    "\n",
    "These lending percentage rates are not advertised and are not made readily available.  About 10 million American households borrow money through payday loans each year, and payday lenders have more storefronts in the United States than McDonald's and Starbucks combined (Pew Charitable Trusts 2012; Lusardi and de Bassa Scheresberg 2013). \n",
    "\n",
    "\n",
    "__How do payday loans work?__   A payday loan is a short-term loan that can help someone cover immediate cash needs until they receive their next paycheck. These loans are usually small-dollar, high-cost loans that charge a fee that is typically due within two weeks --- or close to the borrower's next payday.   Many people resort to payday loans because they're easy to get.  Borrowers who resort to obtaining payday loans may have poor credit or no credit, which can prevent them from getting a personal loan with better terms, for instance, from a bank.  Another reason may be a lack of knowledge about or fear of alternatives.  There are some alternatives but they are less profitable _for the lenders_ and therefore are less heavily advertised.\n",
    "\n",
    "Payday lenders have few requirements for approving the loans they give out. Most don't run a credit check or even require that the borrower have the means to repay the loan. All someone typically needs is identification, a bank account in relatively good standing, and a steady paycheck.   \n",
    "\n",
    "Unfortunately, many payday loan borrowers can't repay the debt by the due date. In fact, the Consumer Financial Protection Bureau found that 20% of payday borrowers default on their loans (can't pay them back), and more than 80% of payday loans taken out by borrowers were rolled over or reborrowed within 30 days, perpetuating the cycle of debt."
   ]
  },
  {
   "cell_type": "markdown",
   "metadata": {},
   "source": [
    "__We will use Python to solve the following problem: given the conditions of a payday loan, what is its APR?__\n",
    "\n",
    "## Payday loan terms and conditions\n",
    "\n",
    "Payday loan companies typically describe the terms and conditions of a loan in one of two ways:\n",
    "\n",
    "  1. The *loan amount* (the amount of cash the borrower receives), the *finance charge* (a fixed additional amount of money the borrower must repay, in addition to the loan amount), and the *repayment period* (the length of the loan in days or months, after which all the money must be repaid). \n",
    "\n",
    "-or-\n",
    "\n",
    "  2.  A *fee per every &#36;100 borrowed*, and the *repayment period*.  (Note that in this situation, we do not need the loan amount itself to calculate the APR.)\n",
    "\n",
    "Given either of these scenarios, we can compute the APR of the loan."
   ]
  },
  {
   "cell_type": "markdown",
   "metadata": {},
   "source": [
    "## APR calculation\n",
    "\n",
    "### Scenario 1:\n",
    "\n",
    "We are given the *loan amount* (in dollars), the *finance charge* (in dollars), and the *repayment period* (either in days or months).\n",
    "\n",
    "Here's the algorithm for calculating the APR:\n",
    "\n",
    "1. Divide the *finance charge* by the *loan amount*.\n",
    "2. Multiply the answer in step 1 by the number of days in a year (365).\n",
    "3. Divide the answer in step 2 by the *repayment period* in number of days.\n",
    "4. Multiply the answer in step 3 by 100 to get the APR as a percent.\n",
    "\n",
    "In other words:\n",
    "\n",
    "$\\textit{APR} = \\dfrac{\\textit{finance charge}}{\\textit{loan amount}} \\cdot \\dfrac{365}{\\textit{repayment period}} \\cdot 100$\n",
    "\n",
    "### Scenario 2\n",
    "\n",
    "We are given a *fee* (in dollars) *per each &#36;100 borrowed*, and the *repayment period* (either in days or months).\n",
    "\n",
    "1. Multiply the *fee* by the number of days in a year (365).\n",
    "2. Divide the answer in step 2 by the *repayment period* in number of days.  This will give you the APR \n",
    "as a percent.\n",
    "\n",
    "In other words:\n",
    "\n",
    "$\\textit{APR} = \\textit{fee} \\cdot \\dfrac{365}{\\textit{repayment period}}$"
   ]
  },
  {
   "cell_type": "markdown",
   "metadata": {},
   "source": [
    "## Program Orientation\n",
    "\n",
    "Here are two sample interactions with the program, illustrating how the program should work for each scenario above.  What\n",
    "the program prints is in regular text, and the sample input the user types is in **bold**.\n",
    "\n",
    "### Example interaction for scenario 1\n",
    "<pre>\n",
    "Welcome to the payday loan APR calculator.\n",
    "Please have the proposed terms of your payday loan handy so we can calculate the APR.\n",
    "\n",
    "Select which one best fits your situation.\n",
    "  (1) I know the total loan amount, the finance charge, and the repayment period (in days or months).\n",
    "  (2) I know the fee in dollars for every 100 dollars borrowed and the repayment period (in days or months).\n",
    " \n",
    "How was the information given to you? Choose (1) or (2): <b>1</b>\n",
    "\n",
    "What is the total loan amount? <b>350.00</b>\n",
    "What is the finance charge for the loan? <b>50.00</b>\n",
    "Is the length of the repayment period in days or months? Enter d or m: <b>d</b>\n",
    "How many days is the repayment period? <b>14</b>\n",
    " \n",
    "Your 14 day loan has an APR of 372.45%.\n",
    "</pre>"
   ]
  },
  {
   "cell_type": "markdown",
   "metadata": {},
   "source": [
    "### Example interaction for scenario 2\n",
    "    \n",
    "<pre>\n",
    "Welcome to the payday loan APR calculator.\n",
    "Please have the proposed terms of your payday loan handy so we can calculate the APR.\n",
    " \n",
    "Select which one best fits your situation.\n",
    "  (1) I know the total loan amount, the finance charge, and the repayment period (in days or months).\n",
    "  (2) I know the fee in dollars for every 100 dollars borrowed and the repayment period (in days or months).\n",
    " \n",
    "How was the information given to you? Choose (1) or (2): <b>2</b>\n",
    " \n",
    "What is the fee for each $100 borrowed? <b>20</b>\n",
    "Is the length of the repayment period in days or months? Enter d or m: <b>d</b>\n",
    "How many days is the repayment period? <b>14</b>\n",
    " \n",
    "Your 14 day loan has an APR of 521.43%.\n",
    "</pre>"
   ]
  },
  {
   "cell_type": "code",
   "execution_count": 1,
   "metadata": {},
   "outputs": [
    {
     "name": "stdout",
     "output_type": "stream",
     "text": [
      "Welcome to the payday loan APR calculator.\n",
      "Please have the proposed terms of your payday loan handy so we can calculate the APR.\n",
      "Select which one best fits your situation.\n",
      "1. I know the total loan amount, the finance charge, and the repayment period (in days or months).\n",
      "2. I know the fee in dollars for every 100 dollars borrowed and the repayment period (in days or months).\n",
      "Your 14.0 day loan has an APR of 521.43 %\n"
     ]
    }
   ],
   "source": [
    "# Run this cell to run the program. \n",
    "%run payday.py"
   ]
  }
 ],
 "metadata": {
  "kernelspec": {
   "display_name": "Python 3",
   "language": "python",
   "name": "python3"
  },
  "language_info": {
   "codemirror_mode": {
    "name": "ipython",
    "version": 3
   },
   "file_extension": ".py",
   "mimetype": "text/x-python",
   "name": "python",
   "nbconvert_exporter": "python",
   "pygments_lexer": "ipython3",
   "version": "3.12.10"
  },
  "varInspector": {
   "cols": {
    "lenName": 16,
    "lenType": 16,
    "lenVar": 40
   },
   "kernels_config": {
    "python": {
     "delete_cmd_postfix": "",
     "delete_cmd_prefix": "del ",
     "library": "var_list.py",
     "varRefreshCmd": "print(var_dic_list())"
    },
    "r": {
     "delete_cmd_postfix": ") ",
     "delete_cmd_prefix": "rm(",
     "library": "var_list.r",
     "varRefreshCmd": "cat(var_dic_list()) "
    }
   },
   "types_to_exclude": [
    "module",
    "function",
    "builtin_function_or_method",
    "instance",
    "_Feature"
   ],
   "window_display": false
  }
 },
 "nbformat": 4,
 "nbformat_minor": 2
}
